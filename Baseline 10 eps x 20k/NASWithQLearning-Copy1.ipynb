{
 "cells": [
  {
   "cell_type": "code",
   "execution_count": null,
   "id": "covered-basis",
   "metadata": {},
   "outputs": [],
   "source": [
    "from config import *\n",
    "from main import *\n",
    "from plot_utils import *\n",
    "import itertools\n"
   ]
  },
  {
   "cell_type": "code",
   "execution_count": null,
   "id": "apparent-bradley",
   "metadata": {},
   "outputs": [],
   "source": [
    "n_epochs = 10\n",
    "\n",
    "env = gym.make('gym_nas_pt:nas_pt-v0', max_index=8, ch='all', sub='all', classifier='LSTM', use_redef_reward=False,\n",
    "                   n_epochs_train=n_epochs, for_predictor=False)"
   ]
  },
  {
   "cell_type": "code",
   "execution_count": null,
   "id": "systematic-allocation",
   "metadata": {},
   "outputs": [],
   "source": [
    "input_dim = n_epochs * 5 + 2"
   ]
  },
  {
   "cell_type": "code",
   "execution_count": null,
   "id": "b446ec61-5a47-43e1-b768-409f74ab1d00",
   "metadata": {},
   "outputs": [],
   "source": [
    "\n",
    "Agent = DiscreteRNNAgent(1,env.action_size,env.nsc_space,seed=1,\n",
    "                         n_kernels_conv=[32,64,128,256],kernel_sizes_conv=[1, 2, 3, 5, 8],\n",
    "                         kernel_sizes_pool=[2,3,5], reward_shaping=True, use_predictor=False,\n",
    "                         load_path=None, pred_input_dim=None, epsilon_schedule='20ksked')"
   ]
  },
  {
   "cell_type": "code",
   "execution_count": null,
   "id": "35eb43c8-1d7e-420e-893a-4de1a5556f8d",
   "metadata": {},
   "outputs": [],
   "source": [
    "scores, scores_by_net = interact(Agent,env,n_episodes=20000, return_avg=5)\n",
    "env.save_evaluated_models()"
   ]
  },
  {
   "cell_type": "code",
   "execution_count": null,
   "id": "f8aebedd-6813-42d5-9f6a-49ff5df165e2",
   "metadata": {
    "scrolled": true,
    "tags": []
   },
   "outputs": [],
   "source": [
    "mem = Agent.memory.memory\n",
    "mem\n"
   ]
  },
  {
   "cell_type": "code",
   "execution_count": null,
   "id": "e3254816-1336-48d4-8a79-79f4fc9030d4",
   "metadata": {},
   "outputs": [],
   "source": [
    "# plot the scores\n",
    "plot_scores(scores)\n",
    "import pickle as pickle\n",
    "with open('scores_lstm_32_nodropout', 'wb') as file:\n",
    "    pickle.dump(scores, file)\n",
    "plt.plot(Agent.epsilon_schedule[:20000])"
   ]
  },
  {
   "cell_type": "code",
   "execution_count": null,
   "id": "11ef539e-0c31-4f4c-8c26-940abd90d4c8",
   "metadata": {},
   "outputs": [],
   "source": [
    "results = pd.DataFrame.from_dict(env.evaluated_models, orient='index', columns = ['Criteria', 'Stdev', 'Inference Time', 'Density', 'FLOPs'])\n",
    "\n",
    "\n",
    "\n",
    "\n",
    "\n",
    "\n",
    "score_df = pd.DataFrame.from_dict(scores_by_net, columns=['Score'], orient='index')\n",
    "\n",
    "results = results[['Criteria', 'Density', 'Inference Time', 'FLOPs']].dropna()\n",
    "results = results.join(score_df)\n",
    "\n",
    "results_sorted = results.fillna(0).sort_values(['Score'])\n",
    "print(results_sorted)"
   ]
  },
  {
   "cell_type": "code",
   "execution_count": null,
   "id": "a0e7cbe8-3feb-41da-82ad-745ee2ccf850",
   "metadata": {},
   "outputs": [],
   "source": [
    "from IPython.display import Image, display"
   ]
  },
  {
   "cell_type": "code",
   "execution_count": null,
   "id": "speaking-liabilities",
   "metadata": {},
   "outputs": [],
   "source": [
    "for i in range(10):\n",
    "    best_model = [obj for obj in results_sorted.tail(10).index[i]]\n",
    "    print(best_model)\n",
    "    best_model = env.get_spec(best_model)\n",
    "    env.render(best_model, ftype='png')\n",
    "\n",
    "    display(Image(filename='output.png'))"
   ]
  },
  {
   "cell_type": "code",
   "execution_count": null,
   "id": "emerging-ecology",
   "metadata": {
    "tags": []
   },
   "outputs": [],
   "source": [
    "criteria = [[None for i in range(10)] for _ in range(5)]\n",
    "inftime = [[None for i in range(10)] for _ in range(5)]\n",
    "density = [[None for i in range(10)] for _ in range(5)]\n",
    "flops = [[None for i in range(10)] for _ in range(5)]\n",
    "targets = [[None for i in range(10)] for _ in range(5)]\n",
    "pred = [[None for i in range(10)] for _ in range(5)]\n",
    "\n",
    "for j in range(5):\n",
    "    for i in range(10):\n",
    "        model = [obj for obj in results_sorted.tail(10).index[i]]\n",
    "#         model = [obj for obj in results_sorted.tail(2).iloc[i]['Model Specification']]\n",
    "        model = env.get_spec(model)\n",
    "        env.render(model, ftype='png')\n",
    "        display(Image(filename='output.png'))\n",
    "        try:\n",
    "            criteria[j][i], inftime[j][i], density[j][i], flops[j][i], targets[j][i], pred[j][i] = env.test(model, verbosity='silent')\n",
    "        except RuntimeError:\n",
    "            criteria[j][i], inftime[j][i], density[j][i], flops[j][i], targets[j][i], pred[j][i] = 0,0,0,0,0,0\n",
    "        print(np.array([criteria, flops, inftime]).T)"
   ]
  },
  {
   "cell_type": "code",
   "execution_count": null,
   "id": "incoming-ballot",
   "metadata": {
    "scrolled": true,
    "tags": []
   },
   "outputs": [],
   "source": [
    "from sklearn.metrics import confusion_matrix, classification_report\n",
    "from seaborn import heatmap\n",
    "opp_class_names = ['Null','Open Door 1','Open Door 2','Close Door 1','Close Door 2','Open Fridge',\n",
    "'Close Fridge','Open Dishwasher','Close Dishwasher','Open Drawer 1','Close Drawer 1','Open Drawer 2','Close Drawer 2',\n",
    "'Open Drawer 3','Close Drawer 3','Clean Table','Drink from Cup','Toggle Switch']\n",
    "for i in range(10):\n",
    "    mat = confusion_matrix(targets[i],pred[i], normalize='true')\n",
    "    df_cm = pd.DataFrame(mat, index=opp_class_names,columns=opp_class_names)\n",
    "    plt.figure(10,figsize=(15,12))\n",
    "    heatmap(df_cm,annot=True,fmt='.2f',cmap='Purples')\n",
    "    plt.show()\n",
    "\n",
    "    print(classification_report(targets[i],pred[i]))\n"
   ]
  },
  {
   "cell_type": "code",
   "execution_count": null,
   "id": "dense-ontario",
   "metadata": {},
   "outputs": [],
   "source": [
    "print(results_sorted.tail(10)['Redef_rewards'].values)"
   ]
  },
  {
   "cell_type": "code",
   "execution_count": null,
   "id": "spatial-relationship",
   "metadata": {},
   "outputs": [],
   "source": [
    "def generate_best_arch(agent, env):\n",
    "    best_model = [(0,0,0,0,0,0)]\n",
    "    done = False\n",
    "    state = env.reset()\n",
    "    score = 0\n",
    "    while not done:\n",
    "        agent.epsilon = 0\n",
    "        agent.episode_counter = 0\n",
    "        action = agent.act(state)\n",
    "        print(action)\n",
    "    # If action is valid, step the env, otherwise discard and gen another layer\n",
    "        if env.action_to_nsc(action).valid():\n",
    "            best_model.append(env.action_to_nsc(action).tuple)\n",
    "            next_state, reward, done, _ = env.step(action, eval=False)\n",
    "            agent.step(state, action, reward, next_state, done)\n",
    "            state = next_state\n",
    "    return best_model\n",
    "    "
   ]
  },
  {
   "cell_type": "code",
   "execution_count": null,
   "id": "ethical-mortgage",
   "metadata": {
    "scrolled": true,
    "tags": []
   },
   "outputs": [],
   "source": [
    "\n",
    "best_model = generate_best_arch(Agent, env)\n",
    "best_model = env.get_spec(best_model) \n"
   ]
  },
  {
   "cell_type": "code",
   "execution_count": null,
   "id": "dimensional-startup",
   "metadata": {},
   "outputs": [],
   "source": [
    "\n",
    "env.render(best_model, ftype='png')\n",
    "from IPython.display import Image\n",
    "Image(filename='output.png')"
   ]
  },
  {
   "cell_type": "code",
   "execution_count": null,
   "id": "gothic-collect",
   "metadata": {
    "scrolled": true,
    "tags": []
   },
   "outputs": [],
   "source": [
    "criteria, inftime, density, flops, targets, pred = env.test(best_model)"
   ]
  },
  {
   "cell_type": "code",
   "execution_count": null,
   "id": "scientific-recorder",
   "metadata": {},
   "outputs": [],
   "source": [
    "print(criteria)"
   ]
  },
  {
   "cell_type": "code",
   "execution_count": null,
   "id": "c6786eed-7cee-4776-9cae-790f538af4e7",
   "metadata": {},
   "outputs": [],
   "source": [
    "deepconv = ((0,0,0,0,0,0),(1,1,5,0,0,64),(2,1,5,1,0,64),(3,1,5,2,0,64),(4,1,5,3,0,64),(5,4,0,0,0,0))\n",
    "deepconv = env.get_spec(deepconv)\n",
    "criteria, inftime, density, flops, targets, pred = env.test(deepconv)\n",
    "print(criteria, flops, inftime)"
   ]
  },
  {
   "cell_type": "code",
   "execution_count": null,
   "id": "da9d6f95-c433-40b6-9727-acaf815b9923",
   "metadata": {},
   "outputs": [],
   "source": [
    "maxff = ((0,0,0,0,0,0),(1,1,5,0,0,256),(2,1,5,1,0,256),(3,1,5,2,0,256),(4,1,5,3,0,256),(5,1,5,4,0,256),(6,1,5,5,0,256),(7,1,5,6,0,256),(8,1,5,7,0,256),(9,4,0,0,0,0))\n",
    "maxff = env.get_spec(maxff)\n",
    "criteria, inftime, density, flops, targets, pred = env.test(maxff)\n",
    "print(criteria, flops, inftime)"
   ]
  },
  {
   "cell_type": "code",
   "execution_count": null,
   "id": "912d9b2a-2499-4cef-8b65-a1b6d63dda89",
   "metadata": {},
   "outputs": [],
   "source": [
    "maxwide = ((0,0,0,0,0,0),(1,1,5,0,0,256),(2,1,5,0,0,256),(3,1,5,0,0,256),(4,1,5,0,0,256),(5,1,5,0,0,256),(6,1,5,0,0,256),(7,1,5,0,0,256),(8,1,5,0,0,256),(9,4,0,0,0,0))\n",
    "maxwide = env.get_spec(maxwide)\n",
    "criteria, inftime, density, flops, targets, pred = env.test(maxwide)\n",
    "print(criteria, flops, inftime)"
   ]
  },
  {
   "cell_type": "code",
   "execution_count": null,
   "id": "caf0af7c-c062-47f3-9b0d-e9a1b8ca6520",
   "metadata": {},
   "outputs": [],
   "source": [
    "results.to_pickle('search_results_basel_10.pkl')"
   ]
  }
 ],
 "metadata": {
  "kernelspec": {
   "display_name": "Python 3",
   "language": "python",
   "name": "python3"
  },
  "language_info": {
   "codemirror_mode": {
    "name": "ipython",
    "version": 3
   },
   "file_extension": ".py",
   "mimetype": "text/x-python",
   "name": "python",
   "nbconvert_exporter": "python",
   "pygments_lexer": "ipython3",
   "version": "3.8.10"
  }
 },
 "nbformat": 4,
 "nbformat_minor": 5
}
